{
 "cells": [
  {
   "cell_type": "code",
   "execution_count": 1,
   "metadata": {},
   "outputs": [],
   "source": [
    "import pandas as pd\n",
    "import numpy as np\n",
    "import itertools\n",
    "import pickle\n",
    "import matplotlib\n",
    "import os\n",
    "from sklearn.preprocessing import MinMaxScaler\n",
    "\n",
    "def predict(features_test): \n",
    "    label_dict = {'0':'blues',\n",
    "                  '1':'classical',\n",
    "                  '2':'country',\n",
    "                  '3':'disco',\n",
    "                  '4':'hiphop',\n",
    "                  '5':'jazz',\n",
    "                  '6':'metal',\n",
    "                  '7':'pop',\n",
    "                  '8':'reggae',\n",
    "                  '9':'rock',\n",
    "                 }\n",
    "\n",
    "    print(\"Machine Learning Classification Models\")\n",
    "    print(\"1.XGBOOST 2.SVM 3.Random Forest 4.Logistic Regression\")\n",
    "    i = input(\"Enter Desired Classifier:\")\n",
    "\n",
    "    if i == \"1\":\n",
    "        classifier = \"XGB\"\n",
    "        model = pickle.load(open('finalized_model_xbg.pkl','rb'))\n",
    "\n",
    "    elif i == \"2\":\n",
    "        classifier = \"SVM\"\n",
    "        model = pickle.load(open(\"finalized_model_svm.pkl\",\"rb\"))\n",
    "\n",
    "    elif i == \"3\":\n",
    "        classifier = \"Random Forest\"\n",
    "        model = pickle.load(open(\"finalized_model_rf.pkl\",\"rb\"))\n",
    "\n",
    "    elif i == \"4\":\n",
    "        classifier = \"Logistic Regression\"\n",
    "        model = pickle.load(open(\"finalized_model_lr.pkl\",\"rb\"))\n",
    "\n",
    "    features_test = features_test.reshape(1,-1)\n",
    "\n",
    "    y_pred = model.predict(features_test)\n",
    "    key = \"{}\".format(y_pred[0])\n",
    "\n",
    "    genre = label_dict[key]\n",
    "    print(\"{} classifer predicts the song is of {} genre\".format(classifier, genre))"
   ]
  },
  {
   "cell_type": "code",
   "execution_count": 2,
   "metadata": {},
   "outputs": [
    {
     "data": {
      "text/plain": [
       "(139,)"
      ]
     },
     "execution_count": 2,
     "metadata": {},
     "output_type": "execute_result"
    }
   ],
   "source": [
    "os.chdir('C:\\\\Users\\\\iiroh\\\\Documents\\\\Projects\\\\Music Genre Classification\\\\features\\\\')\n",
    "df = pd.read_csv('features_final.csv')\n",
    "del df['label']\n",
    "scalar = MinMaxScaler()\n",
    "features = scalar.fit_transform(df)\n",
    "features_test = features[555]\n",
    "features_test.shape"
   ]
  },
  {
   "cell_type": "code",
   "execution_count": 3,
   "metadata": {},
   "outputs": [
    {
     "name": "stdout",
     "output_type": "stream",
     "text": [
      "Machine Learning Classification Models\n",
      "1.XGBOOST 2.SVM 3.Random Forest 4.Logistic Regression\n",
      "Enter Desired Classifier:2\n",
      "SVM classifer predicts the song is of jazz genre\n"
     ]
    }
   ],
   "source": [
    "label_dict = {'0':'blues',\n",
    "                  '1':'classical',\n",
    "                  '2':'country',\n",
    "                  '3':'disco',\n",
    "                  '4':'hiphop',\n",
    "                  '5':'jazz',\n",
    "                  '6':'metal',\n",
    "                  '7':'pop',\n",
    "                  '8':'reggae',\n",
    "                  '9':'rock',\n",
    "                 }\n",
    "\n",
    "print(\"Machine Learning Classification Models\")\n",
    "print(\"1.XGBOOST 2.SVM 3.Random Forest 4.Logistic Regression\")\n",
    "i = input(\"Enter Desired Classifier:\")\n",
    "\n",
    "if i == \"1\":\n",
    "    classifier = \"XGB\"\n",
    "    model = pickle.load(open('finalized_model_xbg.pkl','rb'))\n",
    "\n",
    "elif i == \"2\":\n",
    "    classifier = \"SVM\"\n",
    "    model = pickle.load(open(\"finalized_model_svm.pkl\",\"rb\"))\n",
    "\n",
    "elif i == \"3\":\n",
    "    classifier = \"Random Forest\"\n",
    "    model = pickle.load(open(\"finalized_model_rf.pkl\",\"rb\"))\n",
    "\n",
    "elif i == \"4\":\n",
    "    classifier = \"Logistic Regression\"\n",
    "    model = pickle.load(open(\"finalized_model_lr.pkl\",\"rb\"))\n",
    "\n",
    "features_test = features_test.reshape(1,-1)\n",
    "\n",
    "y_pred = model.predict(features_test)\n",
    "key = \"{}\".format(y_pred[0])\n",
    "\n",
    "genre = label_dict[key]\n",
    "print(\"{} classifer predicts the song is of {} genre\".format(classifier, genre))"
   ]
  }
 ],
 "metadata": {
  "kernelspec": {
   "display_name": "Python 3",
   "language": "python",
   "name": "python3"
  },
  "language_info": {
   "codemirror_mode": {
    "name": "ipython",
    "version": 3
   },
   "file_extension": ".py",
   "mimetype": "text/x-python",
   "name": "python",
   "nbconvert_exporter": "python",
   "pygments_lexer": "ipython3",
   "version": "3.8.5"
  }
 },
 "nbformat": 4,
 "nbformat_minor": 4
}
