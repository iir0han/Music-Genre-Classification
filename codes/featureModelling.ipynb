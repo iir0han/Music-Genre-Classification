{
 "cells": [
  {
   "cell_type": "code",
   "execution_count": 1,
   "metadata": {},
   "outputs": [],
   "source": [
    "from sklearn.svm import SVC\n",
    "from sklearn.preprocessing import StandardScaler\n",
    "from sklearn.model_selection import StratifiedShuffleSplit\n",
    "from sklearn.model_selection import RandomizedSearchCV\n",
    "import pandas as pd\n",
    "import os\n",
    "from sklearn import svm\n",
    "from sklearn.model_selection import GridSearchCV\n",
    "import numpy as np"
   ]
  },
  {
   "cell_type": "code",
   "execution_count": 2,
   "metadata": {},
   "outputs": [],
   "source": [
    "from sklearn.naive_bayes import GaussianNB\n",
    "from sklearn.neighbors import KNeighborsClassifier\n",
    "from sklearn.linear_model import LogisticRegression\n",
    "from sklearn.svm import SVC\n",
    "from sklearn.neural_network import MLPClassifier\n",
    "from sklearn.preprocessing import StandardScaler"
   ]
  },
  {
   "cell_type": "code",
   "execution_count": 3,
   "metadata": {},
   "outputs": [],
   "source": [
    "os.chdir('C:\\\\Users\\\\iiroh\\\\Documents\\\\Projects\\\\Music Genre Classification\\\\features\\\\')\n",
    "df = pd.read_csv('features_final.csv')\n",
    "df.reset_index(inplace=True, drop=True)\n",
    "y = df.pop('label').values\n",
    "df1 = df[['centroid_max','centroid_std','contrast_skew','mfcc_0_max']]\n",
    "x = df1.values"
   ]
  },
  {
   "cell_type": "code",
   "execution_count": 4,
   "metadata": {},
   "outputs": [],
   "source": [
    "scaler = StandardScaler()\n",
    "features = scaler.fit_transform(x)\n",
    "\n",
    "from sklearn.model_selection import train_test_split\n",
    "\n",
    "features_train, features_test, y_train, y_test = train_test_split(features, y, test_size=0.2, random_state = 42, stratify = y)"
   ]
  },
  {
   "cell_type": "code",
   "execution_count": 6,
   "metadata": {},
   "outputs": [
    {
     "name": "stdout",
     "output_type": "stream",
     "text": [
      "<class 'sklearn.naive_bayes.GaussianNB'>\n",
      "0.425\n",
      "<class 'sklearn.neighbors._classification.KNeighborsClassifier'>\n",
      "0.44\n",
      "<class 'sklearn.neural_network._multilayer_perceptron.MLPClassifier'>\n",
      "0.1\n",
      "<class 'sklearn.linear_model._logistic.LogisticRegression'>\n",
      "0.44\n",
      "<class 'sklearn.svm._classes.SVC'>\n",
      "0.465\n"
     ]
    }
   ],
   "source": [
    "err = []\n",
    "for Model in [GaussianNB, KNeighborsClassifier,MLPClassifier,LogisticRegression,SVC]:\n",
    "#for Model in [MLPClassifier]:\n",
    "    print(Model)\n",
    "    #gaussian 0.34~ knn 0.45~ logistic default converge error? SVC 0.4775~ NN 0.455\n",
    "    if Model == GaussianNB:\n",
    "        clf =  GaussianNB(var_smoothing=1.29e-10)\n",
    "    elif Model == LogisticRegression:\n",
    "        #clf =  LogisticRegression(solver='liblinear')\n",
    "        clf =  LogisticRegression(solver='liblinear',max_iter=1000)#max_iter=5000)\n",
    "    elif Model == KNeighborsClassifier:\n",
    "        clf = Model(n_neighbors=21)\n",
    "    elif Model == MLPClassifier:\n",
    "        clf =  Model( activation='relu', max_iter=1000, hidden_layer_sizes=(140,2), random_state=1)\n",
    "    elif Model == SVC:\n",
    "        clf = Model(kernel = 'rbf',max_iter=2000)\n",
    "        #clf = Model(kernel='linear', C=1.0,max_iter=1000)\n",
    "    clf.fit(features_train, y_train)\n",
    "    y_pred = np.array(clf.predict(features_test),dtype=np.int)\n",
    "    y_expected = np.array(y_test,dtype=np.int)\n",
    "    print(np.sum(y_pred==y_expected)/y_expected.shape[0])\n",
    "    err.append(np.sum(y_pred==y_expected)/y_expected.shape[0])"
   ]
  },
  {
   "cell_type": "code",
   "execution_count": null,
   "metadata": {},
   "outputs": [],
   "source": []
  }
 ],
 "metadata": {
  "kernelspec": {
   "display_name": "Python 3",
   "language": "python",
   "name": "python3"
  },
  "language_info": {
   "codemirror_mode": {
    "name": "ipython",
    "version": 3
   },
   "file_extension": ".py",
   "mimetype": "text/x-python",
   "name": "python",
   "nbconvert_exporter": "python",
   "pygments_lexer": "ipython3",
   "version": "3.8.5"
  }
 },
 "nbformat": 4,
 "nbformat_minor": 4
}
