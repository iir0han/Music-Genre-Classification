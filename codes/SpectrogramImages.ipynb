{
 "cells": [
  {
   "cell_type": "code",
   "execution_count": 3,
   "metadata": {},
   "outputs": [
    {
     "name": "stderr",
     "output_type": "stream",
     "text": [
      "  0%|                                                                                           | 0/10 [00:00<?, ?it/s]<ipython-input-3-bdb62c226574>:40: RuntimeWarning: More than 20 figures have been opened. Figures created through the pyplot interface (`matplotlib.pyplot.figure`) are retained until explicitly closed and may consume too much memory. (To control this warning, see the rcParam `figure.max_open_warning`).\n",
      "  pylab.figure(figsize=(3,3))\n",
      "100%|██████████████████████████████████████████████████████████████████████████████████| 10/10 [00:03<00:00,  2.88it/s]\n"
     ]
    }
   ],
   "source": [
    "import os\n",
    "\n",
    "import matplotlib\n",
    "matplotlib.use('agg')\n",
    "\n",
    "from matplotlib import pyplot as plt\n",
    "from matplotlib import cm\n",
    "from tqdm import tqdm\n",
    "import pylab\n",
    "\n",
    "import librosa\n",
    "from librosa import display\n",
    "import numpy as np\n",
    "\n",
    "WAV_DIR = 'wav_files/'\n",
    "IMG_DIR = 'spectogram_image/'\n",
    "wav_files = os.listdir(WAV_DIR)\n",
    "\n",
    "for f in tqdm(wav_files):\n",
    "    try:\n",
    "        # Read wav-file\n",
    "        y, sr = librosa.load(WAV_DIR+f, sr = 22050) # Use the default sampling rate of 22,050 Hz\n",
    "        \n",
    "        # Pre-emphasis filter\n",
    "        pre_emphasis = 0.97\n",
    "        y = np.append(y[0], y[1:] - pre_emphasis * y[:-1])\n",
    "        \n",
    "        # Compute spectrogram\n",
    "        M = librosa.feature.melspectrogram(y, sr, \n",
    "                                           fmax = sr/2, # Maximum frequency to be used on the on the MEL scale\n",
    "                                           n_fft=2048, \n",
    "                                           hop_length=512, \n",
    "                                           n_mels = 96, # As per the Google Large-scale audio CNN paper\n",
    "                                           power = 2) # Power = 2 refers to squared amplitude\n",
    "        \n",
    "        # Power in DB\n",
    "        log_power = librosa.power_to_db(M, ref=np.max)# Covert to dB (log) scale\n",
    "        \n",
    "        # Plotting the spectrogram and save as JPG without axes (just the image)\n",
    "        pylab.figure(figsize=(3,3))\n",
    "        pylab.axis('off') \n",
    "        pylab.axes([0., 0., 1., 1.], frameon=False, xticks=[], yticks=[]) # Remove the white edge\n",
    "        librosa.display.specshow(log_power, cmap=cm.jet)\n",
    "        pylab.savefig(IMG_DIR + f[:-4]+'.jpg', bbox_inches=None, pad_inches=0)\n",
    "        pylab.close()\n",
    "\n",
    "    except Exception as e:\n",
    "        print(f, e)\n",
    "        pass"
   ]
  }
 ],
 "metadata": {
  "kernelspec": {
   "display_name": "Python 3",
   "language": "python",
   "name": "python3"
  },
  "language_info": {
   "codemirror_mode": {
    "name": "ipython",
    "version": 3
   },
   "file_extension": ".py",
   "mimetype": "text/x-python",
   "name": "python",
   "nbconvert_exporter": "python",
   "pygments_lexer": "ipython3",
   "version": "3.8.5"
  }
 },
 "nbformat": 4,
 "nbformat_minor": 4
}
